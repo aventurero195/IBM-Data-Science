{
 "cells": [
  {
   "cell_type": "markdown",
   "id": "9457233f-216c-42dd-8e38-60baff69d491",
   "metadata": {},
   "source": [
    "<h1> Data Science Tools and Ecosystem </h1>"
   ]
  },
  {
   "cell_type": "markdown",
   "id": "8ba89474-c715-4acb-a46c-391934ff01d8",
   "metadata": {
    "jupyter": {
     "source_hidden": true
    }
   },
   "source": [
    "<h2>Author</h2>\n",
    "Karthik Balasubramanian"
   ]
  },
  {
   "cell_type": "markdown",
   "id": "4c1bf7cd-ddac-40d2-8cd3-5ab834213f62",
   "metadata": {
    "jupyter": {
     "source_hidden": true
    }
   },
   "source": [
    "In this notebook, Data Science Tools and Ecosystem are summarized."
   ]
  },
  {
   "cell_type": "markdown",
   "id": "5ff4a796-3443-455e-9077-0c4300e10c14",
   "metadata": {
    "jupyter": {
     "source_hidden": true
    }
   },
   "source": [
    "**Objectives:**\n",
    "- Use of Jupyter Notebook to record data science experiments\n",
    "- Popular programming languages used by Data Scientists\n",
    "- Commonly used libraries by Data Scientists\n",
    "- Tools used in data science\n",
    "- Examples of evaluating arithmetic expressions in python\n"
   ]
  },
  {
   "cell_type": "markdown",
   "id": "31fa5383-2993-45b9-8b46-29f9696e0cd3",
   "metadata": {
    "jupyter": {
     "source_hidden": true
    }
   },
   "source": [
    "Some of the popular languages that Data Scientists use are:\n",
    "\n",
    "1. Python\n",
    "2. R\n",
    "3. SQL"
   ]
  },
  {
   "cell_type": "markdown",
   "id": "8bc6f8c3-9cd2-49f5-84c2-51086874a1e9",
   "metadata": {
    "jupyter": {
     "source_hidden": true
    }
   },
   "source": [
    "Some of the commonly used libraries used by Data Scientists include:\n",
    "\n",
    "1. Pandas\n",
    "2. NumPy\n",
    "3. Seaborn\n",
    "4. Sqlite3"
   ]
  },
  {
   "cell_type": "markdown",
   "id": "18732ad3-2a94-4da9-ba91-8d1d65d0494f",
   "metadata": {
    "jupyter": {
     "source_hidden": true
    }
   },
   "source": [
    "|Data Science Tools|\n",
    "|:----------------:|\n",
    "|Jupyter Notebook|\n",
    "|Github|\n",
    "|Anaconda|"
   ]
  },
  {
   "cell_type": "markdown",
   "id": "31e8c895-4516-43e7-b48f-6fcad17a7f16",
   "metadata": {},
   "source": [
    "<h3>Below are a few examples of evaluating arithmetic expressions in Python.</h3>"
   ]
  },
  {
   "cell_type": "code",
   "execution_count": 1,
   "id": "3243774d-59d5-4a38-845e-8b1ec8d8e813",
   "metadata": {
    "collapsed": true,
    "jupyter": {
     "outputs_hidden": true,
     "source_hidden": true
    }
   },
   "outputs": [
    {
     "data": {
      "text/plain": [
       "17"
      ]
     },
     "execution_count": 1,
     "metadata": {},
     "output_type": "execute_result"
    }
   ],
   "source": [
    "# This a simple arithmetic expression to mutiply then add integers.\n",
    "(3*4)+5"
   ]
  },
  {
   "cell_type": "code",
   "execution_count": 7,
   "id": "27871644-bae5-4a91-be43-990b4a165355",
   "metadata": {
    "collapsed": true,
    "jupyter": {
     "outputs_hidden": true,
     "source_hidden": true
    }
   },
   "outputs": [
    {
     "data": {
      "text/plain": [
       "3.3333333333333335"
      ]
     },
     "execution_count": 7,
     "metadata": {},
     "output_type": "execute_result"
    }
   ],
   "source": [
    "# This will convert 200 minutes to hours by diving by 60.\n",
    "200/60"
   ]
  }
 ],
 "metadata": {
  "kernelspec": {
   "display_name": "Python [conda env:base] *",
   "language": "python",
   "name": "conda-base-py"
  },
  "language_info": {
   "codemirror_mode": {
    "name": "ipython",
    "version": 3
   },
   "file_extension": ".py",
   "mimetype": "text/x-python",
   "name": "python",
   "nbconvert_exporter": "python",
   "pygments_lexer": "ipython3",
   "version": "3.12.7"
  }
 },
 "nbformat": 4,
 "nbformat_minor": 5
}
